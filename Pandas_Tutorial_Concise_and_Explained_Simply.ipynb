{
  "nbformat": 4,
  "nbformat_minor": 0,
  "metadata": {
    "colab": {
      "provenance": []
    },
    "kernelspec": {
      "name": "python3",
      "display_name": "Python 3"
    },
    "language_info": {
      "name": "python"
    }
  },
  "cells": [
    {
      "cell_type": "code",
      "metadata": {
        "id": "ayA5ecU8jRYt"
      },
      "source": [
        "import pandas as pd"
      ],
      "execution_count": null,
      "outputs": []
    },
    {
      "cell_type": "code",
      "metadata": {
        "colab": {
          "base_uri": "https://localhost:8080/",
          "height": 205
        },
        "id": "1r5JEK-Ljnub",
        "outputId": "6f6a17fe-46a0-4612-9dc3-9d0673a1d477"
      },
      "source": [
        "df = pd.read_csv('sample_data/california_housing_train.csv')\n",
        "df.head()"
      ],
      "execution_count": null,
      "outputs": [
        {
          "output_type": "execute_result",
          "data": {
            "text/html": [
              "<div>\n",
              "<style scoped>\n",
              "    .dataframe tbody tr th:only-of-type {\n",
              "        vertical-align: middle;\n",
              "    }\n",
              "\n",
              "    .dataframe tbody tr th {\n",
              "        vertical-align: top;\n",
              "    }\n",
              "\n",
              "    .dataframe thead th {\n",
              "        text-align: right;\n",
              "    }\n",
              "</style>\n",
              "<table border=\"1\" class=\"dataframe\">\n",
              "  <thead>\n",
              "    <tr style=\"text-align: right;\">\n",
              "      <th></th>\n",
              "      <th>longitude</th>\n",
              "      <th>latitude</th>\n",
              "      <th>housing_median_age</th>\n",
              "      <th>total_rooms</th>\n",
              "      <th>total_bedrooms</th>\n",
              "      <th>population</th>\n",
              "      <th>households</th>\n",
              "      <th>median_income</th>\n",
              "      <th>median_house_value</th>\n",
              "    </tr>\n",
              "  </thead>\n",
              "  <tbody>\n",
              "    <tr>\n",
              "      <th>0</th>\n",
              "      <td>-114.31</td>\n",
              "      <td>34.19</td>\n",
              "      <td>15.0</td>\n",
              "      <td>5612.0</td>\n",
              "      <td>1283.0</td>\n",
              "      <td>1015.0</td>\n",
              "      <td>472.0</td>\n",
              "      <td>1.4936</td>\n",
              "      <td>66900.0</td>\n",
              "    </tr>\n",
              "    <tr>\n",
              "      <th>1</th>\n",
              "      <td>-114.47</td>\n",
              "      <td>34.40</td>\n",
              "      <td>19.0</td>\n",
              "      <td>7650.0</td>\n",
              "      <td>1901.0</td>\n",
              "      <td>1129.0</td>\n",
              "      <td>463.0</td>\n",
              "      <td>1.8200</td>\n",
              "      <td>80100.0</td>\n",
              "    </tr>\n",
              "    <tr>\n",
              "      <th>2</th>\n",
              "      <td>-114.56</td>\n",
              "      <td>33.69</td>\n",
              "      <td>17.0</td>\n",
              "      <td>720.0</td>\n",
              "      <td>174.0</td>\n",
              "      <td>333.0</td>\n",
              "      <td>117.0</td>\n",
              "      <td>1.6509</td>\n",
              "      <td>85700.0</td>\n",
              "    </tr>\n",
              "    <tr>\n",
              "      <th>3</th>\n",
              "      <td>-114.57</td>\n",
              "      <td>33.64</td>\n",
              "      <td>14.0</td>\n",
              "      <td>1501.0</td>\n",
              "      <td>337.0</td>\n",
              "      <td>515.0</td>\n",
              "      <td>226.0</td>\n",
              "      <td>3.1917</td>\n",
              "      <td>73400.0</td>\n",
              "    </tr>\n",
              "    <tr>\n",
              "      <th>4</th>\n",
              "      <td>-114.57</td>\n",
              "      <td>33.57</td>\n",
              "      <td>20.0</td>\n",
              "      <td>1454.0</td>\n",
              "      <td>326.0</td>\n",
              "      <td>624.0</td>\n",
              "      <td>262.0</td>\n",
              "      <td>1.9250</td>\n",
              "      <td>65500.0</td>\n",
              "    </tr>\n",
              "  </tbody>\n",
              "</table>\n",
              "</div>"
            ],
            "text/plain": [
              "   longitude  latitude  ...  median_income  median_house_value\n",
              "0    -114.31     34.19  ...         1.4936             66900.0\n",
              "1    -114.47     34.40  ...         1.8200             80100.0\n",
              "2    -114.56     33.69  ...         1.6509             85700.0\n",
              "3    -114.57     33.64  ...         3.1917             73400.0\n",
              "4    -114.57     33.57  ...         1.9250             65500.0\n",
              "\n",
              "[5 rows x 9 columns]"
            ]
          },
          "metadata": {
            "tags": []
          },
          "execution_count": 2
        }
      ]
    },
    {
      "cell_type": "code",
      "metadata": {
        "colab": {
          "base_uri": "https://localhost:8080/"
        },
        "id": "CUaYf14fjygp",
        "outputId": "86e13145-b4c7-4eaa-f437-e0a9adfc3c88"
      },
      "source": [
        "type(df)"
      ],
      "execution_count": null,
      "outputs": [
        {
          "output_type": "execute_result",
          "data": {
            "text/plain": [
              "pandas.core.frame.DataFrame"
            ]
          },
          "metadata": {
            "tags": []
          },
          "execution_count": 3
        }
      ]
    },
    {
      "cell_type": "code",
      "metadata": {
        "colab": {
          "base_uri": "https://localhost:8080/"
        },
        "id": "m41rmhpRkZvg",
        "outputId": "f26e0823-fae0-4327-9ba2-7c80d6a94e27"
      },
      "source": [
        "hh = df['households']\n",
        "hh.head()"
      ],
      "execution_count": null,
      "outputs": [
        {
          "output_type": "execute_result",
          "data": {
            "text/plain": [
              "0    472.0\n",
              "1    463.0\n",
              "2    117.0\n",
              "3    226.0\n",
              "4    262.0\n",
              "Name: households, dtype: float64"
            ]
          },
          "metadata": {
            "tags": []
          },
          "execution_count": 4
        }
      ]
    },
    {
      "cell_type": "code",
      "metadata": {
        "colab": {
          "base_uri": "https://localhost:8080/"
        },
        "id": "uXA70dYXkjsM",
        "outputId": "26696c65-b91a-4b8e-947a-52ff108ef15f"
      },
      "source": [
        "type(hh)"
      ],
      "execution_count": null,
      "outputs": [
        {
          "output_type": "execute_result",
          "data": {
            "text/plain": [
              "pandas.core.series.Series"
            ]
          },
          "metadata": {
            "tags": []
          },
          "execution_count": 5
        }
      ]
    },
    {
      "cell_type": "code",
      "metadata": {
        "colab": {
          "base_uri": "https://localhost:8080/"
        },
        "id": "WVG9NaFekw8s",
        "outputId": "3c243d6f-0f90-4233-ef3b-83840199ff0b"
      },
      "source": [
        "hh.mean()"
      ],
      "execution_count": null,
      "outputs": [
        {
          "output_type": "execute_result",
          "data": {
            "text/plain": [
              "501.2219411764706"
            ]
          },
          "metadata": {
            "tags": []
          },
          "execution_count": 6
        }
      ]
    },
    {
      "cell_type": "code",
      "metadata": {
        "colab": {
          "base_uri": "https://localhost:8080/"
        },
        "id": "XZQGeDO-lEGZ",
        "outputId": "2cfe2d5f-bd9b-44d3-9bbd-35d7e54b40a7"
      },
      "source": [
        "hh.std()"
      ],
      "execution_count": null,
      "outputs": [
        {
          "output_type": "execute_result",
          "data": {
            "text/plain": [
              "384.52084085590013"
            ]
          },
          "metadata": {
            "tags": []
          },
          "execution_count": 7
        }
      ]
    },
    {
      "cell_type": "code",
      "metadata": {
        "colab": {
          "base_uri": "https://localhost:8080/"
        },
        "id": "vYtVuIOelOWr",
        "outputId": "64435fc4-5745-42d3-87d3-6716dab21e28"
      },
      "source": [
        "(hh.min(), hh.max(), hh.count())"
      ],
      "execution_count": null,
      "outputs": [
        {
          "output_type": "execute_result",
          "data": {
            "text/plain": [
              "(1.0, 6082.0, 17000)"
            ]
          },
          "metadata": {
            "tags": []
          },
          "execution_count": 8
        }
      ]
    },
    {
      "cell_type": "code",
      "metadata": {
        "colab": {
          "base_uri": "https://localhost:8080/"
        },
        "id": "c_AwY5KZlX_I",
        "outputId": "41fbb322-4f48-46c5-b9b7-1a082459733d"
      },
      "source": [
        "hh.median()"
      ],
      "execution_count": null,
      "outputs": [
        {
          "output_type": "execute_result",
          "data": {
            "text/plain": [
              "409.0"
            ]
          },
          "metadata": {
            "tags": []
          },
          "execution_count": 9
        }
      ]
    },
    {
      "cell_type": "code",
      "metadata": {
        "colab": {
          "base_uri": "https://localhost:8080/"
        },
        "id": "pZb6z9FHl_51",
        "outputId": "e2689e03-e41f-4f65-e1bd-652100c3a28d"
      },
      "source": [
        "hh.describe()"
      ],
      "execution_count": null,
      "outputs": [
        {
          "output_type": "execute_result",
          "data": {
            "text/plain": [
              "count    17000.000000\n",
              "mean       501.221941\n",
              "std        384.520841\n",
              "min          1.000000\n",
              "25%        282.000000\n",
              "50%        409.000000\n",
              "75%        605.250000\n",
              "max       6082.000000\n",
              "Name: households, dtype: float64"
            ]
          },
          "metadata": {
            "tags": []
          },
          "execution_count": 10
        }
      ]
    },
    {
      "cell_type": "code",
      "metadata": {
        "colab": {
          "base_uri": "https://localhost:8080/",
          "height": 205
        },
        "id": "UUSjBfMimOc3",
        "outputId": "816be703-7476-4d13-85e7-c662a2b89f47"
      },
      "source": [
        "rooms = df[['total_bedrooms', 'total_rooms']]\n",
        "rooms.head()"
      ],
      "execution_count": null,
      "outputs": [
        {
          "output_type": "execute_result",
          "data": {
            "text/html": [
              "<div>\n",
              "<style scoped>\n",
              "    .dataframe tbody tr th:only-of-type {\n",
              "        vertical-align: middle;\n",
              "    }\n",
              "\n",
              "    .dataframe tbody tr th {\n",
              "        vertical-align: top;\n",
              "    }\n",
              "\n",
              "    .dataframe thead th {\n",
              "        text-align: right;\n",
              "    }\n",
              "</style>\n",
              "<table border=\"1\" class=\"dataframe\">\n",
              "  <thead>\n",
              "    <tr style=\"text-align: right;\">\n",
              "      <th></th>\n",
              "      <th>total_bedrooms</th>\n",
              "      <th>total_rooms</th>\n",
              "    </tr>\n",
              "  </thead>\n",
              "  <tbody>\n",
              "    <tr>\n",
              "      <th>0</th>\n",
              "      <td>1283.0</td>\n",
              "      <td>5612.0</td>\n",
              "    </tr>\n",
              "    <tr>\n",
              "      <th>1</th>\n",
              "      <td>1901.0</td>\n",
              "      <td>7650.0</td>\n",
              "    </tr>\n",
              "    <tr>\n",
              "      <th>2</th>\n",
              "      <td>174.0</td>\n",
              "      <td>720.0</td>\n",
              "    </tr>\n",
              "    <tr>\n",
              "      <th>3</th>\n",
              "      <td>337.0</td>\n",
              "      <td>1501.0</td>\n",
              "    </tr>\n",
              "    <tr>\n",
              "      <th>4</th>\n",
              "      <td>326.0</td>\n",
              "      <td>1454.0</td>\n",
              "    </tr>\n",
              "  </tbody>\n",
              "</table>\n",
              "</div>"
            ],
            "text/plain": [
              "   total_bedrooms  total_rooms\n",
              "0          1283.0       5612.0\n",
              "1          1901.0       7650.0\n",
              "2           174.0        720.0\n",
              "3           337.0       1501.0\n",
              "4           326.0       1454.0"
            ]
          },
          "metadata": {
            "tags": []
          },
          "execution_count": 11
        }
      ]
    },
    {
      "cell_type": "code",
      "metadata": {
        "colab": {
          "base_uri": "https://localhost:8080/"
        },
        "id": "Bo8yBX9jmkhP",
        "outputId": "29c28555-4ebc-4608-e2a0-38c9c66c9875"
      },
      "source": [
        "rooms.min()"
      ],
      "execution_count": null,
      "outputs": [
        {
          "output_type": "execute_result",
          "data": {
            "text/plain": [
              "total_bedrooms    1.0\n",
              "total_rooms       2.0\n",
              "dtype: float64"
            ]
          },
          "metadata": {
            "tags": []
          },
          "execution_count": 12
        }
      ]
    },
    {
      "cell_type": "code",
      "metadata": {
        "colab": {
          "base_uri": "https://localhost:8080/",
          "height": 299
        },
        "id": "bh4zk9UFmuFM",
        "outputId": "1f7c83a4-6b23-4d74-bfd6-ee4f659dd34a"
      },
      "source": [
        "rooms.describe()"
      ],
      "execution_count": null,
      "outputs": [
        {
          "output_type": "execute_result",
          "data": {
            "text/html": [
              "<div>\n",
              "<style scoped>\n",
              "    .dataframe tbody tr th:only-of-type {\n",
              "        vertical-align: middle;\n",
              "    }\n",
              "\n",
              "    .dataframe tbody tr th {\n",
              "        vertical-align: top;\n",
              "    }\n",
              "\n",
              "    .dataframe thead th {\n",
              "        text-align: right;\n",
              "    }\n",
              "</style>\n",
              "<table border=\"1\" class=\"dataframe\">\n",
              "  <thead>\n",
              "    <tr style=\"text-align: right;\">\n",
              "      <th></th>\n",
              "      <th>total_bedrooms</th>\n",
              "      <th>total_rooms</th>\n",
              "    </tr>\n",
              "  </thead>\n",
              "  <tbody>\n",
              "    <tr>\n",
              "      <th>count</th>\n",
              "      <td>17000.000000</td>\n",
              "      <td>17000.000000</td>\n",
              "    </tr>\n",
              "    <tr>\n",
              "      <th>mean</th>\n",
              "      <td>539.410824</td>\n",
              "      <td>2643.664412</td>\n",
              "    </tr>\n",
              "    <tr>\n",
              "      <th>std</th>\n",
              "      <td>421.499452</td>\n",
              "      <td>2179.947071</td>\n",
              "    </tr>\n",
              "    <tr>\n",
              "      <th>min</th>\n",
              "      <td>1.000000</td>\n",
              "      <td>2.000000</td>\n",
              "    </tr>\n",
              "    <tr>\n",
              "      <th>25%</th>\n",
              "      <td>297.000000</td>\n",
              "      <td>1462.000000</td>\n",
              "    </tr>\n",
              "    <tr>\n",
              "      <th>50%</th>\n",
              "      <td>434.000000</td>\n",
              "      <td>2127.000000</td>\n",
              "    </tr>\n",
              "    <tr>\n",
              "      <th>75%</th>\n",
              "      <td>648.250000</td>\n",
              "      <td>3151.250000</td>\n",
              "    </tr>\n",
              "    <tr>\n",
              "      <th>max</th>\n",
              "      <td>6445.000000</td>\n",
              "      <td>37937.000000</td>\n",
              "    </tr>\n",
              "  </tbody>\n",
              "</table>\n",
              "</div>"
            ],
            "text/plain": [
              "       total_bedrooms   total_rooms\n",
              "count    17000.000000  17000.000000\n",
              "mean       539.410824   2643.664412\n",
              "std        421.499452   2179.947071\n",
              "min          1.000000      2.000000\n",
              "25%        297.000000   1462.000000\n",
              "50%        434.000000   2127.000000\n",
              "75%        648.250000   3151.250000\n",
              "max       6445.000000  37937.000000"
            ]
          },
          "metadata": {
            "tags": []
          },
          "execution_count": 13
        }
      ]
    },
    {
      "cell_type": "code",
      "metadata": {
        "colab": {
          "base_uri": "https://localhost:8080/",
          "height": 319
        },
        "id": "WVm_0cVvm8Cn",
        "outputId": "e1f35b1e-abda-4130-88fd-7937fdc6673b"
      },
      "source": [
        "df.describe()"
      ],
      "execution_count": null,
      "outputs": [
        {
          "output_type": "execute_result",
          "data": {
            "text/html": [
              "<div>\n",
              "<style scoped>\n",
              "    .dataframe tbody tr th:only-of-type {\n",
              "        vertical-align: middle;\n",
              "    }\n",
              "\n",
              "    .dataframe tbody tr th {\n",
              "        vertical-align: top;\n",
              "    }\n",
              "\n",
              "    .dataframe thead th {\n",
              "        text-align: right;\n",
              "    }\n",
              "</style>\n",
              "<table border=\"1\" class=\"dataframe\">\n",
              "  <thead>\n",
              "    <tr style=\"text-align: right;\">\n",
              "      <th></th>\n",
              "      <th>longitude</th>\n",
              "      <th>latitude</th>\n",
              "      <th>housing_median_age</th>\n",
              "      <th>total_rooms</th>\n",
              "      <th>total_bedrooms</th>\n",
              "      <th>population</th>\n",
              "      <th>households</th>\n",
              "      <th>median_income</th>\n",
              "      <th>median_house_value</th>\n",
              "    </tr>\n",
              "  </thead>\n",
              "  <tbody>\n",
              "    <tr>\n",
              "      <th>count</th>\n",
              "      <td>17000.000000</td>\n",
              "      <td>17000.000000</td>\n",
              "      <td>17000.000000</td>\n",
              "      <td>17000.000000</td>\n",
              "      <td>17000.000000</td>\n",
              "      <td>17000.000000</td>\n",
              "      <td>17000.000000</td>\n",
              "      <td>17000.000000</td>\n",
              "      <td>17000.000000</td>\n",
              "    </tr>\n",
              "    <tr>\n",
              "      <th>mean</th>\n",
              "      <td>-119.562108</td>\n",
              "      <td>35.625225</td>\n",
              "      <td>28.589353</td>\n",
              "      <td>2643.664412</td>\n",
              "      <td>539.410824</td>\n",
              "      <td>1429.573941</td>\n",
              "      <td>501.221941</td>\n",
              "      <td>3.883578</td>\n",
              "      <td>207300.912353</td>\n",
              "    </tr>\n",
              "    <tr>\n",
              "      <th>std</th>\n",
              "      <td>2.005166</td>\n",
              "      <td>2.137340</td>\n",
              "      <td>12.586937</td>\n",
              "      <td>2179.947071</td>\n",
              "      <td>421.499452</td>\n",
              "      <td>1147.852959</td>\n",
              "      <td>384.520841</td>\n",
              "      <td>1.908157</td>\n",
              "      <td>115983.764387</td>\n",
              "    </tr>\n",
              "    <tr>\n",
              "      <th>min</th>\n",
              "      <td>-124.350000</td>\n",
              "      <td>32.540000</td>\n",
              "      <td>1.000000</td>\n",
              "      <td>2.000000</td>\n",
              "      <td>1.000000</td>\n",
              "      <td>3.000000</td>\n",
              "      <td>1.000000</td>\n",
              "      <td>0.499900</td>\n",
              "      <td>14999.000000</td>\n",
              "    </tr>\n",
              "    <tr>\n",
              "      <th>25%</th>\n",
              "      <td>-121.790000</td>\n",
              "      <td>33.930000</td>\n",
              "      <td>18.000000</td>\n",
              "      <td>1462.000000</td>\n",
              "      <td>297.000000</td>\n",
              "      <td>790.000000</td>\n",
              "      <td>282.000000</td>\n",
              "      <td>2.566375</td>\n",
              "      <td>119400.000000</td>\n",
              "    </tr>\n",
              "    <tr>\n",
              "      <th>50%</th>\n",
              "      <td>-118.490000</td>\n",
              "      <td>34.250000</td>\n",
              "      <td>29.000000</td>\n",
              "      <td>2127.000000</td>\n",
              "      <td>434.000000</td>\n",
              "      <td>1167.000000</td>\n",
              "      <td>409.000000</td>\n",
              "      <td>3.544600</td>\n",
              "      <td>180400.000000</td>\n",
              "    </tr>\n",
              "    <tr>\n",
              "      <th>75%</th>\n",
              "      <td>-118.000000</td>\n",
              "      <td>37.720000</td>\n",
              "      <td>37.000000</td>\n",
              "      <td>3151.250000</td>\n",
              "      <td>648.250000</td>\n",
              "      <td>1721.000000</td>\n",
              "      <td>605.250000</td>\n",
              "      <td>4.767000</td>\n",
              "      <td>265000.000000</td>\n",
              "    </tr>\n",
              "    <tr>\n",
              "      <th>max</th>\n",
              "      <td>-114.310000</td>\n",
              "      <td>41.950000</td>\n",
              "      <td>52.000000</td>\n",
              "      <td>37937.000000</td>\n",
              "      <td>6445.000000</td>\n",
              "      <td>35682.000000</td>\n",
              "      <td>6082.000000</td>\n",
              "      <td>15.000100</td>\n",
              "      <td>500001.000000</td>\n",
              "    </tr>\n",
              "  </tbody>\n",
              "</table>\n",
              "</div>"
            ],
            "text/plain": [
              "          longitude      latitude  ...  median_income  median_house_value\n",
              "count  17000.000000  17000.000000  ...   17000.000000        17000.000000\n",
              "mean    -119.562108     35.625225  ...       3.883578       207300.912353\n",
              "std        2.005166      2.137340  ...       1.908157       115983.764387\n",
              "min     -124.350000     32.540000  ...       0.499900        14999.000000\n",
              "25%     -121.790000     33.930000  ...       2.566375       119400.000000\n",
              "50%     -118.490000     34.250000  ...       3.544600       180400.000000\n",
              "75%     -118.000000     37.720000  ...       4.767000       265000.000000\n",
              "max     -114.310000     41.950000  ...      15.000100       500001.000000\n",
              "\n",
              "[8 rows x 9 columns]"
            ]
          },
          "metadata": {
            "tags": []
          },
          "execution_count": 14
        }
      ]
    },
    {
      "cell_type": "code",
      "metadata": {
        "colab": {
          "base_uri": "https://localhost:8080/",
          "height": 282
        },
        "id": "eG8LrgGun_X3",
        "outputId": "23eeb41d-15cf-4e3d-f5f9-a7308a0e62a5"
      },
      "source": [
        "hh.hist()"
      ],
      "execution_count": null,
      "outputs": [
        {
          "output_type": "execute_result",
          "data": {
            "text/plain": [
              "<matplotlib.axes._subplots.AxesSubplot at 0x7f12bbe997d0>"
            ]
          },
          "metadata": {
            "tags": []
          },
          "execution_count": 15
        },
        {
          "output_type": "display_data",
          "data": {
            "image/png": "[encoded data removed]",
            "text/plain": [
              "<Figure size 432x288 with 1 Axes>"
            ]
          },
          "metadata": {
            "tags": [],
            "needs_background": "light"
          }
        }
      ]
    },
    {
      "cell_type": "code",
      "metadata": {
        "colab": {
          "base_uri": "https://localhost:8080/",
          "height": 454
        },
        "id": "nfuVTSIeoWoV",
        "outputId": "ad03e1f2-c3f8-4a32-ac3a-d62690f30ff7"
      },
      "source": [
        "df.hist()"
      ],
      "execution_count": null,
      "outputs": [
        {
          "output_type": "execute_result",
          "data": {
            "text/plain": [
              "array([[<matplotlib.axes._subplots.AxesSubplot object at 0x7f12bbd7e510>,\n",
              "        <matplotlib.axes._subplots.AxesSubplot object at 0x7f12bb8fd5d0>,\n",
              "        <matplotlib.axes._subplots.AxesSubplot object at 0x7f12bb8b2c50>],\n",
              "       [<matplotlib.axes._subplots.AxesSubplot object at 0x7f12bb875310>,\n",
              "        <matplotlib.axes._subplots.AxesSubplot object at 0x7f12bb82a990>,\n",
              "        <matplotlib.axes._subplots.AxesSubplot object at 0x7f12bb860fd0>],\n",
              "       [<matplotlib.axes._subplots.AxesSubplot object at 0x7f12bb822750>,\n",
              "        <matplotlib.axes._subplots.AxesSubplot object at 0x7f12bb7d7d10>,\n",
              "        <matplotlib.axes._subplots.AxesSubplot object at 0x7f12bb7d7d50>]],\n",
              "      dtype=object)"
            ]
          },
          "metadata": {
            "tags": []
          },
          "execution_count": 16
        },
        {
          "output_type": "display_data",
          "data": {
            "image/png": "[encoded data removed]",
            "text/plain": [
              "<Figure size 432x288 with 9 Axes>"
            ]
          },
          "metadata": {
            "tags": [],
            "needs_background": "light"
          }
        }
      ]
    },
    {
      "cell_type": "code",
      "metadata": {
        "id": "dMHY9HAcpWl4"
      },
      "source": [
        "#df.to_numpy()"
      ],
      "execution_count": null,
      "outputs": []
    },
    {
      "cell_type": "code",
      "metadata": {
        "colab": {
          "base_uri": "https://localhost:8080/",
          "height": 422
        },
        "id": "-KIiEnMMpgQI",
        "outputId": "0cd19026-8ae3-4aab-ae83-48c195680c92"
      },
      "source": [
        "rooms"
      ],
      "execution_count": null,
      "outputs": [
        {
          "output_type": "execute_result",
          "data": {
            "text/html": [
              "<div>\n",
              "<style scoped>\n",
              "    .dataframe tbody tr th:only-of-type {\n",
              "        vertical-align: middle;\n",
              "    }\n",
              "\n",
              "    .dataframe tbody tr th {\n",
              "        vertical-align: top;\n",
              "    }\n",
              "\n",
              "    .dataframe thead th {\n",
              "        text-align: right;\n",
              "    }\n",
              "</style>\n",
              "<table border=\"1\" class=\"dataframe\">\n",
              "  <thead>\n",
              "    <tr style=\"text-align: right;\">\n",
              "      <th></th>\n",
              "      <th>total_bedrooms</th>\n",
              "      <th>total_rooms</th>\n",
              "    </tr>\n",
              "  </thead>\n",
              "  <tbody>\n",
              "    <tr>\n",
              "      <th>0</th>\n",
              "      <td>1283.0</td>\n",
              "      <td>5612.0</td>\n",
              "    </tr>\n",
              "    <tr>\n",
              "      <th>1</th>\n",
              "      <td>1901.0</td>\n",
              "      <td>7650.0</td>\n",
              "    </tr>\n",
              "    <tr>\n",
              "      <th>2</th>\n",
              "      <td>174.0</td>\n",
              "      <td>720.0</td>\n",
              "    </tr>\n",
              "    <tr>\n",
              "      <th>3</th>\n",
              "      <td>337.0</td>\n",
              "      <td>1501.0</td>\n",
              "    </tr>\n",
              "    <tr>\n",
              "      <th>4</th>\n",
              "      <td>326.0</td>\n",
              "      <td>1454.0</td>\n",
              "    </tr>\n",
              "    <tr>\n",
              "      <th>...</th>\n",
              "      <td>...</td>\n",
              "      <td>...</td>\n",
              "    </tr>\n",
              "    <tr>\n",
              "      <th>16995</th>\n",
              "      <td>394.0</td>\n",
              "      <td>2217.0</td>\n",
              "    </tr>\n",
              "    <tr>\n",
              "      <th>16996</th>\n",
              "      <td>528.0</td>\n",
              "      <td>2349.0</td>\n",
              "    </tr>\n",
              "    <tr>\n",
              "      <th>16997</th>\n",
              "      <td>531.0</td>\n",
              "      <td>2677.0</td>\n",
              "    </tr>\n",
              "    <tr>\n",
              "      <th>16998</th>\n",
              "      <td>552.0</td>\n",
              "      <td>2672.0</td>\n",
              "    </tr>\n",
              "    <tr>\n",
              "      <th>16999</th>\n",
              "      <td>300.0</td>\n",
              "      <td>1820.0</td>\n",
              "    </tr>\n",
              "  </tbody>\n",
              "</table>\n",
              "<p>17000 rows × 2 columns</p>\n",
              "</div>"
            ],
            "text/plain": [
              "       total_bedrooms  total_rooms\n",
              "0              1283.0       5612.0\n",
              "1              1901.0       7650.0\n",
              "2               174.0        720.0\n",
              "3               337.0       1501.0\n",
              "4               326.0       1454.0\n",
              "...               ...          ...\n",
              "16995           394.0       2217.0\n",
              "16996           528.0       2349.0\n",
              "16997           531.0       2677.0\n",
              "16998           552.0       2672.0\n",
              "16999           300.0       1820.0\n",
              "\n",
              "[17000 rows x 2 columns]"
            ]
          },
          "metadata": {
            "tags": []
          },
          "execution_count": 18
        }
      ]
    },
    {
      "cell_type": "code",
      "metadata": {
        "colab": {
          "base_uri": "https://localhost:8080/",
          "height": 297
        },
        "id": "w_zetgDxqmCe",
        "outputId": "f66cd10f-8e93-4697-dd1e-4bbd11bcac98"
      },
      "source": [
        "rooms.plot.scatter('total_bedrooms', 'total_rooms')"
      ],
      "execution_count": null,
      "outputs": [
        {
          "output_type": "execute_result",
          "data": {
            "text/plain": [
              "<matplotlib.axes._subplots.AxesSubplot at 0x7f12bb5a3490>"
            ]
          },
          "metadata": {
            "tags": []
          },
          "execution_count": 19
        },
        {
          "output_type": "display_data",
          "data": {
            "image/png": "[encoded data removed]",
            "text/plain": [
              "<Figure size 432x288 with 1 Axes>"
            ]
          },
          "metadata": {
            "tags": [],
            "needs_background": "light"
          }
        }
      ]
    },
    {
      "cell_type": "code",
      "metadata": {
        "colab": {
          "base_uri": "https://localhost:8080/",
          "height": 112
        },
        "id": "OVFV7rmbrARM",
        "outputId": "bb820bff-2ae6-4577-e108-b58f49e85fd3"
      },
      "source": [
        "rooms.corr()"
      ],
      "execution_count": null,
      "outputs": [
        {
          "output_type": "execute_result",
          "data": {
            "text/html": [
              "<div>\n",
              "<style scoped>\n",
              "    .dataframe tbody tr th:only-of-type {\n",
              "        vertical-align: middle;\n",
              "    }\n",
              "\n",
              "    .dataframe tbody tr th {\n",
              "        vertical-align: top;\n",
              "    }\n",
              "\n",
              "    .dataframe thead th {\n",
              "        text-align: right;\n",
              "    }\n",
              "</style>\n",
              "<table border=\"1\" class=\"dataframe\">\n",
              "  <thead>\n",
              "    <tr style=\"text-align: right;\">\n",
              "      <th></th>\n",
              "      <th>total_bedrooms</th>\n",
              "      <th>total_rooms</th>\n",
              "    </tr>\n",
              "  </thead>\n",
              "  <tbody>\n",
              "    <tr>\n",
              "      <th>total_bedrooms</th>\n",
              "      <td>1.000000</td>\n",
              "      <td>0.928403</td>\n",
              "    </tr>\n",
              "    <tr>\n",
              "      <th>total_rooms</th>\n",
              "      <td>0.928403</td>\n",
              "      <td>1.000000</td>\n",
              "    </tr>\n",
              "  </tbody>\n",
              "</table>\n",
              "</div>"
            ],
            "text/plain": [
              "                total_bedrooms  total_rooms\n",
              "total_bedrooms        1.000000     0.928403\n",
              "total_rooms           0.928403     1.000000"
            ]
          },
          "metadata": {
            "tags": []
          },
          "execution_count": 20
        }
      ]
    },
    {
      "cell_type": "code",
      "metadata": {
        "id": "s9mZUvvfrPX2"
      },
      "source": [
        "#df.corr()"
      ],
      "execution_count": null,
      "outputs": []
    },
    {
      "cell_type": "code",
      "metadata": {
        "colab": {
          "base_uri": "https://localhost:8080/",
          "height": 422
        },
        "id": "TDIQYBUVusWo",
        "outputId": "55b2bd97-3f24-464d-ee85-9fcb8bb139fc"
      },
      "source": [
        "rooms"
      ],
      "execution_count": null,
      "outputs": [
        {
          "output_type": "execute_result",
          "data": {
            "text/html": [
              "<div>\n",
              "<style scoped>\n",
              "    .dataframe tbody tr th:only-of-type {\n",
              "        vertical-align: middle;\n",
              "    }\n",
              "\n",
              "    .dataframe tbody tr th {\n",
              "        vertical-align: top;\n",
              "    }\n",
              "\n",
              "    .dataframe thead th {\n",
              "        text-align: right;\n",
              "    }\n",
              "</style>\n",
              "<table border=\"1\" class=\"dataframe\">\n",
              "  <thead>\n",
              "    <tr style=\"text-align: right;\">\n",
              "      <th></th>\n",
              "      <th>total_bedrooms</th>\n",
              "      <th>total_rooms</th>\n",
              "    </tr>\n",
              "  </thead>\n",
              "  <tbody>\n",
              "    <tr>\n",
              "      <th>0</th>\n",
              "      <td>1283.0</td>\n",
              "      <td>5612.0</td>\n",
              "    </tr>\n",
              "    <tr>\n",
              "      <th>1</th>\n",
              "      <td>1901.0</td>\n",
              "      <td>7650.0</td>\n",
              "    </tr>\n",
              "    <tr>\n",
              "      <th>2</th>\n",
              "      <td>174.0</td>\n",
              "      <td>720.0</td>\n",
              "    </tr>\n",
              "    <tr>\n",
              "      <th>3</th>\n",
              "      <td>337.0</td>\n",
              "      <td>1501.0</td>\n",
              "    </tr>\n",
              "    <tr>\n",
              "      <th>4</th>\n",
              "      <td>326.0</td>\n",
              "      <td>1454.0</td>\n",
              "    </tr>\n",
              "    <tr>\n",
              "      <th>...</th>\n",
              "      <td>...</td>\n",
              "      <td>...</td>\n",
              "    </tr>\n",
              "    <tr>\n",
              "      <th>16995</th>\n",
              "      <td>394.0</td>\n",
              "      <td>2217.0</td>\n",
              "    </tr>\n",
              "    <tr>\n",
              "      <th>16996</th>\n",
              "      <td>528.0</td>\n",
              "      <td>2349.0</td>\n",
              "    </tr>\n",
              "    <tr>\n",
              "      <th>16997</th>\n",
              "      <td>531.0</td>\n",
              "      <td>2677.0</td>\n",
              "    </tr>\n",
              "    <tr>\n",
              "      <th>16998</th>\n",
              "      <td>552.0</td>\n",
              "      <td>2672.0</td>\n",
              "    </tr>\n",
              "    <tr>\n",
              "      <th>16999</th>\n",
              "      <td>300.0</td>\n",
              "      <td>1820.0</td>\n",
              "    </tr>\n",
              "  </tbody>\n",
              "</table>\n",
              "<p>17000 rows × 2 columns</p>\n",
              "</div>"
            ],
            "text/plain": [
              "       total_bedrooms  total_rooms\n",
              "0              1283.0       5612.0\n",
              "1              1901.0       7650.0\n",
              "2               174.0        720.0\n",
              "3               337.0       1501.0\n",
              "4               326.0       1454.0\n",
              "...               ...          ...\n",
              "16995           394.0       2217.0\n",
              "16996           528.0       2349.0\n",
              "16997           531.0       2677.0\n",
              "16998           552.0       2672.0\n",
              "16999           300.0       1820.0\n",
              "\n",
              "[17000 rows x 2 columns]"
            ]
          },
          "metadata": {
            "tags": []
          },
          "execution_count": 22
        }
      ]
    },
    {
      "cell_type": "code",
      "metadata": {
        "colab": {
          "base_uri": "https://localhost:8080/"
        },
        "id": "63AWSAKCu0Vu",
        "outputId": "c6ae5511-6647-4eed-9cca-e91019696595"
      },
      "source": [
        "rooms.loc[3]"
      ],
      "execution_count": null,
      "outputs": [
        {
          "output_type": "execute_result",
          "data": {
            "text/plain": [
              "total_bedrooms     337.0\n",
              "total_rooms       1501.0\n",
              "Name: 3, dtype: float64"
            ]
          },
          "metadata": {
            "tags": []
          },
          "execution_count": 23
        }
      ]
    },
    {
      "cell_type": "code",
      "metadata": {
        "colab": {
          "base_uri": "https://localhost:8080/"
        },
        "id": "c2dXb7kwvEgt",
        "outputId": "0a526778-3502-4660-c61c-62b9559c0d00"
      },
      "source": [
        "rooms.index"
      ],
      "execution_count": null,
      "outputs": [
        {
          "output_type": "execute_result",
          "data": {
            "text/plain": [
              "RangeIndex(start=0, stop=17000, step=1)"
            ]
          },
          "metadata": {
            "tags": []
          },
          "execution_count": 24
        }
      ]
    },
    {
      "cell_type": "code",
      "metadata": {
        "colab": {
          "base_uri": "https://localhost:8080/"
        },
        "id": "0gp0Y6hRvIWP",
        "outputId": "14a8099b-216f-4198-c1e3-bd57548e6181"
      },
      "source": [
        "total_bedrooms = rooms['total_bedrooms']\n",
        "total_bedrooms"
      ],
      "execution_count": null,
      "outputs": [
        {
          "output_type": "execute_result",
          "data": {
            "text/plain": [
              "0        1283.0\n",
              "1        1901.0\n",
              "2         174.0\n",
              "3         337.0\n",
              "4         326.0\n",
              "          ...  \n",
              "16995     394.0\n",
              "16996     528.0\n",
              "16997     531.0\n",
              "16998     552.0\n",
              "16999     300.0\n",
              "Name: total_bedrooms, Length: 17000, dtype: float64"
            ]
          },
          "metadata": {
            "tags": []
          },
          "execution_count": 25
        }
      ]
    },
    {
      "cell_type": "code",
      "metadata": {
        "colab": {
          "base_uri": "https://localhost:8080/"
        },
        "id": "ZPYEXy9KvxJJ",
        "outputId": "6035699f-af85-40a0-9bf9-1bb8ea16dd17"
      },
      "source": [
        "total_bedrooms > 325"
      ],
      "execution_count": null,
      "outputs": [
        {
          "output_type": "execute_result",
          "data": {
            "text/plain": [
              "0         True\n",
              "1         True\n",
              "2        False\n",
              "3         True\n",
              "4         True\n",
              "         ...  \n",
              "16995     True\n",
              "16996     True\n",
              "16997     True\n",
              "16998     True\n",
              "16999    False\n",
              "Name: total_bedrooms, Length: 17000, dtype: bool"
            ]
          },
          "metadata": {
            "tags": []
          },
          "execution_count": 26
        }
      ]
    },
    {
      "cell_type": "code",
      "metadata": {
        "colab": {
          "base_uri": "https://localhost:8080/",
          "height": 422
        },
        "id": "ExY5hKKEv3sZ",
        "outputId": "9978543c-90ce-47a4-d254-b5002bf4acb1"
      },
      "source": [
        "rooms[total_bedrooms > 325]"
      ],
      "execution_count": null,
      "outputs": [
        {
          "output_type": "execute_result",
          "data": {
            "text/html": [
              "<div>\n",
              "<style scoped>\n",
              "    .dataframe tbody tr th:only-of-type {\n",
              "        vertical-align: middle;\n",
              "    }\n",
              "\n",
              "    .dataframe tbody tr th {\n",
              "        vertical-align: top;\n",
              "    }\n",
              "\n",
              "    .dataframe thead th {\n",
              "        text-align: right;\n",
              "    }\n",
              "</style>\n",
              "<table border=\"1\" class=\"dataframe\">\n",
              "  <thead>\n",
              "    <tr style=\"text-align: right;\">\n",
              "      <th></th>\n",
              "      <th>total_bedrooms</th>\n",
              "      <th>total_rooms</th>\n",
              "    </tr>\n",
              "  </thead>\n",
              "  <tbody>\n",
              "    <tr>\n",
              "      <th>0</th>\n",
              "      <td>1283.0</td>\n",
              "      <td>5612.0</td>\n",
              "    </tr>\n",
              "    <tr>\n",
              "      <th>1</th>\n",
              "      <td>1901.0</td>\n",
              "      <td>7650.0</td>\n",
              "    </tr>\n",
              "    <tr>\n",
              "      <th>3</th>\n",
              "      <td>337.0</td>\n",
              "      <td>1501.0</td>\n",
              "    </tr>\n",
              "    <tr>\n",
              "      <th>4</th>\n",
              "      <td>326.0</td>\n",
              "      <td>1454.0</td>\n",
              "    </tr>\n",
              "    <tr>\n",
              "      <th>6</th>\n",
              "      <td>680.0</td>\n",
              "      <td>2907.0</td>\n",
              "    </tr>\n",
              "    <tr>\n",
              "      <th>...</th>\n",
              "      <td>...</td>\n",
              "      <td>...</td>\n",
              "    </tr>\n",
              "    <tr>\n",
              "      <th>16994</th>\n",
              "      <td>419.0</td>\n",
              "      <td>1430.0</td>\n",
              "    </tr>\n",
              "    <tr>\n",
              "      <th>16995</th>\n",
              "      <td>394.0</td>\n",
              "      <td>2217.0</td>\n",
              "    </tr>\n",
              "    <tr>\n",
              "      <th>16996</th>\n",
              "      <td>528.0</td>\n",
              "      <td>2349.0</td>\n",
              "    </tr>\n",
              "    <tr>\n",
              "      <th>16997</th>\n",
              "      <td>531.0</td>\n",
              "      <td>2677.0</td>\n",
              "    </tr>\n",
              "    <tr>\n",
              "      <th>16998</th>\n",
              "      <td>552.0</td>\n",
              "      <td>2672.0</td>\n",
              "    </tr>\n",
              "  </tbody>\n",
              "</table>\n",
              "<p>11835 rows × 2 columns</p>\n",
              "</div>"
            ],
            "text/plain": [
              "       total_bedrooms  total_rooms\n",
              "0              1283.0       5612.0\n",
              "1              1901.0       7650.0\n",
              "3               337.0       1501.0\n",
              "4               326.0       1454.0\n",
              "6               680.0       2907.0\n",
              "...               ...          ...\n",
              "16994           419.0       1430.0\n",
              "16995           394.0       2217.0\n",
              "16996           528.0       2349.0\n",
              "16997           531.0       2677.0\n",
              "16998           552.0       2672.0\n",
              "\n",
              "[11835 rows x 2 columns]"
            ]
          },
          "metadata": {
            "tags": []
          },
          "execution_count": 27
        }
      ]
    },
    {
      "cell_type": "code",
      "metadata": {
        "colab": {
          "base_uri": "https://localhost:8080/"
        },
        "id": "nQXmJbw552aB",
        "outputId": "cda39642-ef7d-4251-cb13-cd5bbe468d30"
      },
      "source": [
        "rooms.dtypes"
      ],
      "execution_count": null,
      "outputs": [
        {
          "output_type": "execute_result",
          "data": {
            "text/plain": [
              "total_bedrooms    float64\n",
              "total_rooms       float64\n",
              "dtype: object"
            ]
          },
          "metadata": {
            "tags": []
          },
          "execution_count": 28
        }
      ]
    },
    {
      "cell_type": "code",
      "metadata": {
        "colab": {
          "base_uri": "https://localhost:8080/"
        },
        "id": "0GZI6PiB5-km",
        "outputId": "7ed6f5d1-a814-41f8-8cab-b9e92580ce8e"
      },
      "source": [
        "df.dtypes"
      ],
      "execution_count": null,
      "outputs": [
        {
          "output_type": "execute_result",
          "data": {
            "text/plain": [
              "longitude             float64\n",
              "latitude              float64\n",
              "housing_median_age    float64\n",
              "total_rooms           float64\n",
              "total_bedrooms        float64\n",
              "population            float64\n",
              "households            float64\n",
              "median_income         float64\n",
              "median_house_value    float64\n",
              "dtype: object"
            ]
          },
          "metadata": {
            "tags": []
          },
          "execution_count": 29
        }
      ]
    },
    {
      "cell_type": "code",
      "metadata": {
        "colab": {
          "base_uri": "https://localhost:8080/"
        },
        "id": "Wa5IArC96T-u",
        "outputId": "7c08775b-2de6-4247-f341-b901f9e403ca"
      },
      "source": [
        "!pip install names"
      ],
      "execution_count": null,
      "outputs": [
        {
          "output_type": "stream",
          "text": [
            "Collecting names\n",
            "  Downloading names-0.3.0.tar.gz (789 kB)\n",
            "\u001b[?25l\r\u001b[K     |▍                               | 10 kB 21.0 MB/s eta 0:00:01\r\u001b[K     |▉                               | 20 kB 26.9 MB/s eta 0:00:01\r\u001b[K     |█▎                              | 30 kB 23.3 MB/s eta 0:00:01\r\u001b[K     |█▋                              | 40 kB 18.3 MB/s eta 0:00:01\r\u001b[K     |██                              | 51 kB 7.9 MB/s eta 0:00:01\r\u001b[K     |██▌                             | 61 kB 8.9 MB/s eta 0:00:01\r\u001b[K     |███                             | 71 kB 8.4 MB/s eta 0:00:01\r\u001b[K     |███▎                            | 81 kB 9.1 MB/s eta 0:00:01\r\u001b[K     |███▊                            | 92 kB 10.0 MB/s eta 0:00:01\r\u001b[K     |████▏                           | 102 kB 8.1 MB/s eta 0:00:01\r\u001b[K     |████▋                           | 112 kB 8.1 MB/s eta 0:00:01\r\u001b[K     |█████                           | 122 kB 8.1 MB/s eta 0:00:01\r\u001b[K     |█████▍                          | 133 kB 8.1 MB/s eta 0:00:01\r\u001b[K     |█████▉                          | 143 kB 8.1 MB/s eta 0:00:01\r\u001b[K     |██████▎                         | 153 kB 8.1 MB/s eta 0:00:01\r\u001b[K     |██████▋                         | 163 kB 8.1 MB/s eta 0:00:01\r\u001b[K     |███████                         | 174 kB 8.1 MB/s eta 0:00:01\r\u001b[K     |███████▌                        | 184 kB 8.1 MB/s eta 0:00:01\r\u001b[K     |████████                        | 194 kB 8.1 MB/s eta 0:00:01\r\u001b[K     |████████▎                       | 204 kB 8.1 MB/s eta 0:00:01\r\u001b[K     |████████▊                       | 215 kB 8.1 MB/s eta 0:00:01\r\u001b[K     |█████████▏                      | 225 kB 8.1 MB/s eta 0:00:01\r\u001b[K     |█████████▌                      | 235 kB 8.1 MB/s eta 0:00:01\r\u001b[K     |██████████                      | 245 kB 8.1 MB/s eta 0:00:01\r\u001b[K     |██████████▍                     | 256 kB 8.1 MB/s eta 0:00:01\r\u001b[K     |██████████▉                     | 266 kB 8.1 MB/s eta 0:00:01\r\u001b[K     |███████████▏                    | 276 kB 8.1 MB/s eta 0:00:01\r\u001b[K     |███████████▋                    | 286 kB 8.1 MB/s eta 0:00:01\r\u001b[K     |████████████                    | 296 kB 8.1 MB/s eta 0:00:01\r\u001b[K     |████████████▌                   | 307 kB 8.1 MB/s eta 0:00:01\r\u001b[K     |████████████▉                   | 317 kB 8.1 MB/s eta 0:00:01\r\u001b[K     |█████████████▎                  | 327 kB 8.1 MB/s eta 0:00:01\r\u001b[K     |█████████████▊                  | 337 kB 8.1 MB/s eta 0:00:01\r\u001b[K     |██████████████▏                 | 348 kB 8.1 MB/s eta 0:00:01\r\u001b[K     |██████████████▌                 | 358 kB 8.1 MB/s eta 0:00:01\r\u001b[K     |███████████████                 | 368 kB 8.1 MB/s eta 0:00:01\r\u001b[K     |███████████████▍                | 378 kB 8.1 MB/s eta 0:00:01\r\u001b[K     |███████████████▉                | 389 kB 8.1 MB/s eta 0:00:01\r\u001b[K     |████████████████▏               | 399 kB 8.1 MB/s eta 0:00:01\r\u001b[K     |████████████████▋               | 409 kB 8.1 MB/s eta 0:00:01\r\u001b[K     |█████████████████               | 419 kB 8.1 MB/s eta 0:00:01\r\u001b[K     |█████████████████▍              | 430 kB 8.1 MB/s eta 0:00:01\r\u001b[K     |█████████████████▉              | 440 kB 8.1 MB/s eta 0:00:01\r\u001b[K     |██████████████████▎             | 450 kB 8.1 MB/s eta 0:00:01\r\u001b[K     |██████████████████▊             | 460 kB 8.1 MB/s eta 0:00:01\r\u001b[K     |███████████████████             | 471 kB 8.1 MB/s eta 0:00:01\r\u001b[K     |███████████████████▌            | 481 kB 8.1 MB/s eta 0:00:01\r\u001b[K     |████████████████████            | 491 kB 8.1 MB/s eta 0:00:01\r\u001b[K     |████████████████████▍           | 501 kB 8.1 MB/s eta 0:00:01\r\u001b[K     |████████████████████▊           | 512 kB 8.1 MB/s eta 0:00:01\r\u001b[K     |█████████████████████▏          | 522 kB 8.1 MB/s eta 0:00:01\r\u001b[K     |█████████████████████▋          | 532 kB 8.1 MB/s eta 0:00:01\r\u001b[K     |██████████████████████          | 542 kB 8.1 MB/s eta 0:00:01\r\u001b[K     |██████████████████████▍         | 552 kB 8.1 MB/s eta 0:00:01\r\u001b[K     |██████████████████████▉         | 563 kB 8.1 MB/s eta 0:00:01\r\u001b[K     |███████████████████████▎        | 573 kB 8.1 MB/s eta 0:00:01\r\u001b[K     |███████████████████████▊        | 583 kB 8.1 MB/s eta 0:00:01\r\u001b[K     |████████████████████████        | 593 kB 8.1 MB/s eta 0:00:01\r\u001b[K     |████████████████████████▌       | 604 kB 8.1 MB/s eta 0:00:01\r\u001b[K     |█████████████████████████       | 614 kB 8.1 MB/s eta 0:00:01\r\u001b[K     |█████████████████████████▎      | 624 kB 8.1 MB/s eta 0:00:01\r\u001b[K     |█████████████████████████▊      | 634 kB 8.1 MB/s eta 0:00:01\r\u001b[K     |██████████████████████████▏     | 645 kB 8.1 MB/s eta 0:00:01\r\u001b[K     |██████████████████████████▋     | 655 kB 8.1 MB/s eta 0:00:01\r\u001b[K     |███████████████████████████     | 665 kB 8.1 MB/s eta 0:00:01\r\u001b[K     |███████████████████████████▍    | 675 kB 8.1 MB/s eta 0:00:01\r\u001b[K     |███████████████████████████▉    | 686 kB 8.1 MB/s eta 0:00:01\r\u001b[K     |████████████████████████████▎   | 696 kB 8.1 MB/s eta 0:00:01\r\u001b[K     |████████████████████████████▋   | 706 kB 8.1 MB/s eta 0:00:01\r\u001b[K     |█████████████████████████████   | 716 kB 8.1 MB/s eta 0:00:01\r\u001b[K     |█████████████████████████████▌  | 727 kB 8.1 MB/s eta 0:00:01\r\u001b[K     |██████████████████████████████  | 737 kB 8.1 MB/s eta 0:00:01\r\u001b[K     |██████████████████████████████▎ | 747 kB 8.1 MB/s eta 0:00:01\r\u001b[K     |██████████████████████████████▊ | 757 kB 8.1 MB/s eta 0:00:01\r\u001b[K     |███████████████████████████████▏| 768 kB 8.1 MB/s eta 0:00:01\r\u001b[K     |███████████████████████████████▋| 778 kB 8.1 MB/s eta 0:00:01\r\u001b[K     |████████████████████████████████| 788 kB 8.1 MB/s eta 0:00:01\r\u001b[K     |████████████████████████████████| 789 kB 8.1 MB/s \n",
            "\u001b[?25hBuilding wheels for collected packages: names\n",
            "  Building wheel for names (setup.py) ... \u001b[?25l\u001b[?25hdone\n",
            "  Created wheel for names: filename=names-0.3.0-py3-none-any.whl size=803698 sha256=77c3b26a599ef2b657370281ca09e895c393574fe3ddb4814fa7eb685287ebb9\n",
            "  Stored in directory: /root/.cache/pip/wheels/05/ea/68/92f6b0669e478af9b7c3c524520d03050089e034edcc775c2b\n",
            "Successfully built names\n",
            "Installing collected packages: names\n",
            "Successfully installed names-0.3.0\n"
          ],
          "name": "stdout"
        }
      ]
    },
    {
      "cell_type": "code",
      "metadata": {
        "colab": {
          "base_uri": "https://localhost:8080/",
          "height": 34
        },
        "id": "0OecHtIw6j4s",
        "outputId": "6ff30277-59f0-4a49-eaab-a11774093a80"
      },
      "source": [
        "import names\n",
        "names.get_full_name()"
      ],
      "execution_count": null,
      "outputs": [
        {
          "output_type": "execute_result",
          "data": {
            "application/vnd.google.colaboratory.intrinsic+json": {
              "type": "string"
            },
            "text/plain": [
              "'Cindy Jacobsen'"
            ]
          },
          "metadata": {
            "tags": []
          },
          "execution_count": 31
        }
      ]
    },
    {
      "cell_type": "code",
      "metadata": {
        "colab": {
          "base_uri": "https://localhost:8080/"
        },
        "id": "Hz3et4eo9OeC",
        "outputId": "fdab18ef-4214-458f-c1c0-ed17dda324cc"
      },
      "source": [
        "df['random_name'] = df.apply(lambda row: names.get_full_name(), axis=1)\n",
        "df.head()"
      ],
      "execution_count": null,
      "outputs": [
        {
          "output_type": "execute_result",
          "data": {
            "text/html": [
              "<div>\n",
              "<style scoped>\n",
              "    .dataframe tbody tr th:only-of-type {\n",
              "        vertical-align: middle;\n",
              "    }\n",
              "\n",
              "    .dataframe tbody tr th {\n",
              "        vertical-align: top;\n",
              "    }\n",
              "\n",
              "    .dataframe thead th {\n",
              "        text-align: right;\n",
              "    }\n",
              "</style>\n",
              "<table border=\"1\" class=\"dataframe\">\n",
              "  <thead>\n",
              "    <tr style=\"text-align: right;\">\n",
              "      <th></th>\n",
              "      <th>longitude</th>\n",
              "      <th>latitude</th>\n",
              "      <th>housing_median_age</th>\n",
              "      <th>total_rooms</th>\n",
              "      <th>total_bedrooms</th>\n",
              "      <th>population</th>\n",
              "      <th>households</th>\n",
              "      <th>median_income</th>\n",
              "      <th>median_house_value</th>\n",
              "      <th>random_name</th>\n",
              "    </tr>\n",
              "  </thead>\n",
              "  <tbody>\n",
              "    <tr>\n",
              "      <th>0</th>\n",
              "      <td>-114.31</td>\n",
              "      <td>34.19</td>\n",
              "      <td>15.0</td>\n",
              "      <td>5612.0</td>\n",
              "      <td>1283.0</td>\n",
              "      <td>1015.0</td>\n",
              "      <td>472.0</td>\n",
              "      <td>1.4936</td>\n",
              "      <td>66900.0</td>\n",
              "      <td>Darryl Hadden</td>\n",
              "    </tr>\n",
              "    <tr>\n",
              "      <th>1</th>\n",
              "      <td>-114.47</td>\n",
              "      <td>34.40</td>\n",
              "      <td>19.0</td>\n",
              "      <td>7650.0</td>\n",
              "      <td>1901.0</td>\n",
              "      <td>1129.0</td>\n",
              "      <td>463.0</td>\n",
              "      <td>1.8200</td>\n",
              "      <td>80100.0</td>\n",
              "      <td>Molly Buie</td>\n",
              "    </tr>\n",
              "    <tr>\n",
              "      <th>2</th>\n",
              "      <td>-114.56</td>\n",
              "      <td>33.69</td>\n",
              "      <td>17.0</td>\n",
              "      <td>720.0</td>\n",
              "      <td>174.0</td>\n",
              "      <td>333.0</td>\n",
              "      <td>117.0</td>\n",
              "      <td>1.6509</td>\n",
              "      <td>85700.0</td>\n",
              "      <td>Basil Phillips</td>\n",
              "    </tr>\n",
              "    <tr>\n",
              "      <th>3</th>\n",
              "      <td>-114.57</td>\n",
              "      <td>33.64</td>\n",
              "      <td>14.0</td>\n",
              "      <td>1501.0</td>\n",
              "      <td>337.0</td>\n",
              "      <td>515.0</td>\n",
              "      <td>226.0</td>\n",
              "      <td>3.1917</td>\n",
              "      <td>73400.0</td>\n",
              "      <td>Michael Barnes</td>\n",
              "    </tr>\n",
              "    <tr>\n",
              "      <th>4</th>\n",
              "      <td>-114.57</td>\n",
              "      <td>33.57</td>\n",
              "      <td>20.0</td>\n",
              "      <td>1454.0</td>\n",
              "      <td>326.0</td>\n",
              "      <td>624.0</td>\n",
              "      <td>262.0</td>\n",
              "      <td>1.9250</td>\n",
              "      <td>65500.0</td>\n",
              "      <td>Iola Brehm</td>\n",
              "    </tr>\n",
              "  </tbody>\n",
              "</table>\n",
              "</div>"
            ],
            "text/plain": [
              "   longitude  latitude  ...  median_house_value     random_name\n",
              "0    -114.31     34.19  ...             66900.0   Darryl Hadden\n",
              "1    -114.47     34.40  ...             80100.0      Molly Buie\n",
              "2    -114.56     33.69  ...             85700.0  Basil Phillips\n",
              "3    -114.57     33.64  ...             73400.0  Michael Barnes\n",
              "4    -114.57     33.57  ...             65500.0      Iola Brehm\n",
              "\n",
              "[5 rows x 10 columns]"
            ]
          },
          "metadata": {
            "tags": []
          },
          "execution_count": 32
        }
      ]
    },
    {
      "cell_type": "code",
      "metadata": {
        "colab": {
          "base_uri": "https://localhost:8080/"
        },
        "id": "59nsT-F69h6q",
        "outputId": "8b1e33f3-7476-49a8-8b9b-7175fb6826bf"
      },
      "source": [
        "df.dtypes"
      ],
      "execution_count": null,
      "outputs": [
        {
          "output_type": "execute_result",
          "data": {
            "text/plain": [
              "longitude             float64\n",
              "latitude              float64\n",
              "housing_median_age    float64\n",
              "total_rooms           float64\n",
              "total_bedrooms        float64\n",
              "population            float64\n",
              "households            float64\n",
              "median_income         float64\n",
              "median_house_value    float64\n",
              "random_name            object\n",
              "dtype: object"
            ]
          },
          "metadata": {
            "tags": []
          },
          "execution_count": 33
        }
      ]
    },
    {
      "cell_type": "code",
      "metadata": {
        "colab": {
          "base_uri": "https://localhost:8080/",
          "height": 260
        },
        "id": "HVYtU9K4_pjM",
        "outputId": "9ffb7190-fa21-47f4-96ad-a86d701c11bc"
      },
      "source": [
        "df['the_other_random_name_plus_random_name'] = df.apply(lambda row: row['random_name'] + names.get_full_name(), axis=1)\n",
        "df.head()"
      ],
      "execution_count": null,
      "outputs": [
        {
          "output_type": "execute_result",
          "data": {
            "text/html": [
              "<div>\n",
              "<style scoped>\n",
              "    .dataframe tbody tr th:only-of-type {\n",
              "        vertical-align: middle;\n",
              "    }\n",
              "\n",
              "    .dataframe tbody tr th {\n",
              "        vertical-align: top;\n",
              "    }\n",
              "\n",
              "    .dataframe thead th {\n",
              "        text-align: right;\n",
              "    }\n",
              "</style>\n",
              "<table border=\"1\" class=\"dataframe\">\n",
              "  <thead>\n",
              "    <tr style=\"text-align: right;\">\n",
              "      <th></th>\n",
              "      <th>longitude</th>\n",
              "      <th>latitude</th>\n",
              "      <th>housing_median_age</th>\n",
              "      <th>total_rooms</th>\n",
              "      <th>total_bedrooms</th>\n",
              "      <th>population</th>\n",
              "      <th>households</th>\n",
              "      <th>median_income</th>\n",
              "      <th>median_house_value</th>\n",
              "      <th>random_name</th>\n",
              "      <th>the_other_random_name_plus_random_name</th>\n",
              "    </tr>\n",
              "  </thead>\n",
              "  <tbody>\n",
              "    <tr>\n",
              "      <th>0</th>\n",
              "      <td>-114.31</td>\n",
              "      <td>34.19</td>\n",
              "      <td>15.0</td>\n",
              "      <td>5612.0</td>\n",
              "      <td>1283.0</td>\n",
              "      <td>1015.0</td>\n",
              "      <td>472.0</td>\n",
              "      <td>1.4936</td>\n",
              "      <td>66900.0</td>\n",
              "      <td>Darryl Hadden</td>\n",
              "      <td>Darryl HaddenVeronica Thrash</td>\n",
              "    </tr>\n",
              "    <tr>\n",
              "      <th>1</th>\n",
              "      <td>-114.47</td>\n",
              "      <td>34.40</td>\n",
              "      <td>19.0</td>\n",
              "      <td>7650.0</td>\n",
              "      <td>1901.0</td>\n",
              "      <td>1129.0</td>\n",
              "      <td>463.0</td>\n",
              "      <td>1.8200</td>\n",
              "      <td>80100.0</td>\n",
              "      <td>Molly Buie</td>\n",
              "      <td>Molly BuieLaura Butler</td>\n",
              "    </tr>\n",
              "    <tr>\n",
              "      <th>2</th>\n",
              "      <td>-114.56</td>\n",
              "      <td>33.69</td>\n",
              "      <td>17.0</td>\n",
              "      <td>720.0</td>\n",
              "      <td>174.0</td>\n",
              "      <td>333.0</td>\n",
              "      <td>117.0</td>\n",
              "      <td>1.6509</td>\n",
              "      <td>85700.0</td>\n",
              "      <td>Basil Phillips</td>\n",
              "      <td>Basil PhillipsHenry Miller</td>\n",
              "    </tr>\n",
              "    <tr>\n",
              "      <th>3</th>\n",
              "      <td>-114.57</td>\n",
              "      <td>33.64</td>\n",
              "      <td>14.0</td>\n",
              "      <td>1501.0</td>\n",
              "      <td>337.0</td>\n",
              "      <td>515.0</td>\n",
              "      <td>226.0</td>\n",
              "      <td>3.1917</td>\n",
              "      <td>73400.0</td>\n",
              "      <td>Michael Barnes</td>\n",
              "      <td>Michael BarnesSandra Still</td>\n",
              "    </tr>\n",
              "    <tr>\n",
              "      <th>4</th>\n",
              "      <td>-114.57</td>\n",
              "      <td>33.57</td>\n",
              "      <td>20.0</td>\n",
              "      <td>1454.0</td>\n",
              "      <td>326.0</td>\n",
              "      <td>624.0</td>\n",
              "      <td>262.0</td>\n",
              "      <td>1.9250</td>\n",
              "      <td>65500.0</td>\n",
              "      <td>Iola Brehm</td>\n",
              "      <td>Iola BrehmBrenda Curtis</td>\n",
              "    </tr>\n",
              "  </tbody>\n",
              "</table>\n",
              "</div>"
            ],
            "text/plain": [
              "   longitude  latitude  ...     random_name  the_other_random_name_plus_random_name\n",
              "0    -114.31     34.19  ...   Darryl Hadden            Darryl HaddenVeronica Thrash\n",
              "1    -114.47     34.40  ...      Molly Buie                  Molly BuieLaura Butler\n",
              "2    -114.56     33.69  ...  Basil Phillips              Basil PhillipsHenry Miller\n",
              "3    -114.57     33.64  ...  Michael Barnes              Michael BarnesSandra Still\n",
              "4    -114.57     33.57  ...      Iola Brehm                 Iola BrehmBrenda Curtis\n",
              "\n",
              "[5 rows x 11 columns]"
            ]
          },
          "metadata": {
            "tags": []
          },
          "execution_count": 34
        }
      ]
    },
    {
      "cell_type": "code",
      "metadata": {
        "colab": {
          "base_uri": "https://localhost:8080/"
        },
        "id": "HGj_cILIwTou",
        "outputId": "ee4ec695-05da-4a7e-b374-5353f7cc43a4"
      },
      "source": [
        "# Sorry this was an error in the video:\n",
        "pop = df['population']\n",
        "pop.head()"
      ],
      "execution_count": null,
      "outputs": [
        {
          "output_type": "execute_result",
          "data": {
            "text/plain": [
              "0    1015.0\n",
              "1    1129.0\n",
              "2     333.0\n",
              "3     515.0\n",
              "4     624.0\n",
              "Name: population, dtype: float64"
            ]
          },
          "metadata": {
            "tags": []
          },
          "execution_count": 35
        }
      ]
    },
    {
      "cell_type": "code",
      "metadata": {
        "colab": {
          "base_uri": "https://localhost:8080/"
        },
        "id": "bgIAjwf0CmAR",
        "outputId": "e73f6ed1-69f8-4483-f88d-95329a36769c"
      },
      "source": [
        "pop.apply(lambda x: x**2)"
      ],
      "execution_count": null,
      "outputs": [
        {
          "output_type": "execute_result",
          "data": {
            "text/plain": [
              "0        1030225.0\n",
              "1        1274641.0\n",
              "2         110889.0\n",
              "3         265225.0\n",
              "4         389376.0\n",
              "           ...    \n",
              "16995     822649.0\n",
              "16996    1425636.0\n",
              "16997    1547536.0\n",
              "16998    1684804.0\n",
              "16999     649636.0\n",
              "Name: population, Length: 17000, dtype: float64"
            ]
          },
          "metadata": {
            "tags": []
          },
          "execution_count": 36
        }
      ]
    },
    {
      "cell_type": "code",
      "metadata": {
        "colab": {
          "base_uri": "https://localhost:8080/",
          "height": 143
        },
        "id": "H9ebTWJND2ZC",
        "outputId": "1ed1e2ce-248c-4fd6-e7bb-52a24586ab6d"
      },
      "source": [
        "import numpy as np\n",
        "new_df = pd.DataFrame(data={'first_column':[1, 2, 3], 'second_column':['hey', np.nan, 'jo']})\n",
        "new_df.head()"
      ],
      "execution_count": null,
      "outputs": [
        {
          "output_type": "execute_result",
          "data": {
            "text/html": [
              "<div>\n",
              "<style scoped>\n",
              "    .dataframe tbody tr th:only-of-type {\n",
              "        vertical-align: middle;\n",
              "    }\n",
              "\n",
              "    .dataframe tbody tr th {\n",
              "        vertical-align: top;\n",
              "    }\n",
              "\n",
              "    .dataframe thead th {\n",
              "        text-align: right;\n",
              "    }\n",
              "</style>\n",
              "<table border=\"1\" class=\"dataframe\">\n",
              "  <thead>\n",
              "    <tr style=\"text-align: right;\">\n",
              "      <th></th>\n",
              "      <th>first_column</th>\n",
              "      <th>second_column</th>\n",
              "    </tr>\n",
              "  </thead>\n",
              "  <tbody>\n",
              "    <tr>\n",
              "      <th>0</th>\n",
              "      <td>1</td>\n",
              "      <td>hey</td>\n",
              "    </tr>\n",
              "    <tr>\n",
              "      <th>1</th>\n",
              "      <td>2</td>\n",
              "      <td>NaN</td>\n",
              "    </tr>\n",
              "    <tr>\n",
              "      <th>2</th>\n",
              "      <td>3</td>\n",
              "      <td>jo</td>\n",
              "    </tr>\n",
              "  </tbody>\n",
              "</table>\n",
              "</div>"
            ],
            "text/plain": [
              "   first_column second_column\n",
              "0             1           hey\n",
              "1             2           NaN\n",
              "2             3            jo"
            ]
          },
          "metadata": {
            "tags": []
          },
          "execution_count": 37
        }
      ]
    },
    {
      "cell_type": "code",
      "metadata": {
        "colab": {
          "base_uri": "https://localhost:8080/",
          "height": 112
        },
        "id": "wEnj1X_WHMxr",
        "outputId": "68fd54a7-adcb-4e4c-cea5-e02110be0b4d"
      },
      "source": [
        "new_df = new_df.dropna()\n",
        "new_df"
      ],
      "execution_count": null,
      "outputs": [
        {
          "output_type": "execute_result",
          "data": {
            "text/html": [
              "<div>\n",
              "<style scoped>\n",
              "    .dataframe tbody tr th:only-of-type {\n",
              "        vertical-align: middle;\n",
              "    }\n",
              "\n",
              "    .dataframe tbody tr th {\n",
              "        vertical-align: top;\n",
              "    }\n",
              "\n",
              "    .dataframe thead th {\n",
              "        text-align: right;\n",
              "    }\n",
              "</style>\n",
              "<table border=\"1\" class=\"dataframe\">\n",
              "  <thead>\n",
              "    <tr style=\"text-align: right;\">\n",
              "      <th></th>\n",
              "      <th>first_column</th>\n",
              "      <th>second_column</th>\n",
              "    </tr>\n",
              "  </thead>\n",
              "  <tbody>\n",
              "    <tr>\n",
              "      <th>0</th>\n",
              "      <td>1</td>\n",
              "      <td>hey</td>\n",
              "    </tr>\n",
              "    <tr>\n",
              "      <th>2</th>\n",
              "      <td>3</td>\n",
              "      <td>jo</td>\n",
              "    </tr>\n",
              "  </tbody>\n",
              "</table>\n",
              "</div>"
            ],
            "text/plain": [
              "   first_column second_column\n",
              "0             1           hey\n",
              "2             3            jo"
            ]
          },
          "metadata": {
            "tags": []
          },
          "execution_count": 38
        }
      ]
    },
    {
      "cell_type": "code",
      "metadata": {
        "colab": {
          "base_uri": "https://localhost:8080/"
        },
        "id": "NPDzeGXTGirX",
        "outputId": "e1ee1403-2fe9-4f41-9934-e6ba0b4a957d"
      },
      "source": [
        "new_df.apply(lambda row: row['second_column'] + '5', axis=1)"
      ],
      "execution_count": null,
      "outputs": [
        {
          "output_type": "execute_result",
          "data": {
            "text/plain": [
              "0    hey5\n",
              "2     jo5\n",
              "dtype: object"
            ]
          },
          "metadata": {
            "tags": []
          },
          "execution_count": 39
        }
      ]
    },
    {
      "cell_type": "code",
      "metadata": {
        "id": "WtaXHOY9GyqG"
      },
      "source": [],
      "execution_count": null,
      "outputs": []
    }
  ]
}